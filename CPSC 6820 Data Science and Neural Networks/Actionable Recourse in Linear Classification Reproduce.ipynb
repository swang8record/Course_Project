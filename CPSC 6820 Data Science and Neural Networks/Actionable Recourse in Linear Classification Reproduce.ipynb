{
 "cells": [
  {
   "cell_type": "code",
   "execution_count": 1,
   "id": "be2149f7",
   "metadata": {},
   "outputs": [
    {
     "data": {
      "text/html": [
       "<div>\n",
       "<style scoped>\n",
       "    .dataframe tbody tr th:only-of-type {\n",
       "        vertical-align: middle;\n",
       "    }\n",
       "\n",
       "    .dataframe tbody tr th {\n",
       "        vertical-align: top;\n",
       "    }\n",
       "\n",
       "    .dataframe thead th {\n",
       "        text-align: right;\n",
       "    }\n",
       "</style>\n",
       "<table border=\"1\" class=\"dataframe\">\n",
       "  <thead>\n",
       "    <tr style=\"text-align: right;\">\n",
       "      <th></th>\n",
       "      <th>Married</th>\n",
       "      <th>Single</th>\n",
       "      <th>Age_lt_25</th>\n",
       "      <th>Age_in_25_to_40</th>\n",
       "      <th>Age_in_40_to_59</th>\n",
       "      <th>...</th>\n",
       "      <th>MostRecentBillAmount</th>\n",
       "      <th>MostRecentPaymentAmount</th>\n",
       "      <th>TotalOverdueCounts</th>\n",
       "      <th>TotalMonthsOverdue</th>\n",
       "      <th>HistoryOfOverduePayments</th>\n",
       "    </tr>\n",
       "  </thead>\n",
       "  <tbody>\n",
       "    <tr>\n",
       "      <th>0</th>\n",
       "      <td>1</td>\n",
       "      <td>0</td>\n",
       "      <td>1</td>\n",
       "      <td>0</td>\n",
       "      <td>0</td>\n",
       "      <td>...</td>\n",
       "      <td>120</td>\n",
       "      <td>0</td>\n",
       "      <td>1</td>\n",
       "      <td>4</td>\n",
       "      <td>1</td>\n",
       "    </tr>\n",
       "    <tr>\n",
       "      <th>1</th>\n",
       "      <td>0</td>\n",
       "      <td>1</td>\n",
       "      <td>0</td>\n",
       "      <td>1</td>\n",
       "      <td>0</td>\n",
       "      <td>...</td>\n",
       "      <td>80</td>\n",
       "      <td>0</td>\n",
       "      <td>2</td>\n",
       "      <td>4</td>\n",
       "      <td>1</td>\n",
       "    </tr>\n",
       "    <tr>\n",
       "      <th>2</th>\n",
       "      <td>0</td>\n",
       "      <td>1</td>\n",
       "      <td>0</td>\n",
       "      <td>1</td>\n",
       "      <td>0</td>\n",
       "      <td>...</td>\n",
       "      <td>890</td>\n",
       "      <td>50</td>\n",
       "      <td>0</td>\n",
       "      <td>0</td>\n",
       "      <td>0</td>\n",
       "    </tr>\n",
       "    <tr>\n",
       "      <th>3</th>\n",
       "      <td>1</td>\n",
       "      <td>0</td>\n",
       "      <td>0</td>\n",
       "      <td>1</td>\n",
       "      <td>0</td>\n",
       "      <td>...</td>\n",
       "      <td>1430</td>\n",
       "      <td>60</td>\n",
       "      <td>0</td>\n",
       "      <td>0</td>\n",
       "      <td>0</td>\n",
       "    </tr>\n",
       "    <tr>\n",
       "      <th>4</th>\n",
       "      <td>1</td>\n",
       "      <td>0</td>\n",
       "      <td>0</td>\n",
       "      <td>0</td>\n",
       "      <td>1</td>\n",
       "      <td>...</td>\n",
       "      <td>260</td>\n",
       "      <td>60</td>\n",
       "      <td>0</td>\n",
       "      <td>0</td>\n",
       "      <td>0</td>\n",
       "    </tr>\n",
       "  </tbody>\n",
       "</table>\n",
       "<p>5 rows × 17 columns</p>\n",
       "</div>"
      ],
      "text/plain": [
       "   Married  Single  Age_lt_25  Age_in_25_to_40  Age_in_40_to_59  ...  \\\n",
       "0        1       0          1                0                0  ...   \n",
       "1        0       1          0                1                0  ...   \n",
       "2        0       1          0                1                0  ...   \n",
       "3        1       0          0                1                0  ...   \n",
       "4        1       0          0                0                1  ...   \n",
       "\n",
       "   MostRecentBillAmount  MostRecentPaymentAmount  TotalOverdueCounts  \\\n",
       "0                   120                        0                   1   \n",
       "1                    80                        0                   2   \n",
       "2                   890                       50                   0   \n",
       "3                  1430                       60                   0   \n",
       "4                   260                       60                   0   \n",
       "\n",
       "   TotalMonthsOverdue  HistoryOfOverduePayments  \n",
       "0                   4                         1  \n",
       "1                   4                         1  \n",
       "2                   0                         0  \n",
       "3                   0                         0  \n",
       "4                   0                         0  \n",
       "\n",
       "[5 rows x 17 columns]"
      ]
     },
     "execution_count": 1,
     "metadata": {},
     "output_type": "execute_result"
    }
   ],
   "source": [
    "from sklearn.linear_model import LogisticRegression\n",
    "from IPython.display import HTML\n",
    "from tqdm import tqdm_notebook\n",
    "import sys; sys.path.append('paper')\n",
    "from initialize import * # user settings: feel free to change\n",
    "\n",
    "data, scaler = load_data() # helper function to load in a dictionary containing our dataset.\n",
    "data['X'].head()"
   ]
  },
  {
   "cell_type": "code",
   "execution_count": 2,
   "id": "c8548600",
   "metadata": {},
   "outputs": [],
   "source": [
    "from paper.initialize import *\n",
    "\n",
    "# user settings\n",
    "settings = {\n",
    "    #\n",
    "    # audit settings\n",
    "    'data_name': 'credit',\n",
    "    'method_name': 'logreg',\n",
    "    'normalize_data': True,\n",
    "    'force_rational_actions': False,\n",
    "    #\n",
    "    # script flags\n",
    "    'audit_recourse': True,\n",
    "    'plot_audits': True,\n",
    "    'print_flag': True,\n",
    "    'save_flag': True,\n",
    "    'randomseed': 2338,\n",
    "    #\n",
    "    # placeholders\n",
    "    'method_suffixes': [''],\n",
    "    'audit_suffixes': [''],\n",
    "    }\n"
   ]
  },
  {
   "cell_type": "code",
   "execution_count": 3,
   "id": "1cb5d2ca",
   "metadata": {},
   "outputs": [
    {
     "name": "stdout",
     "output_type": "stream",
     "text": [
      "{   'audit_file': 'C:\\\\Users\\\\swang8\\\\Desktop\\\\Research\\\\Project\\\\2\\\\reproduce_action_linear\\\\3\\\\examples\\\\paper\\\\results\\\\credit/credit_logreg_normalized_audit_results.pkl',\n",
      "    'audit_file_header': 'C:\\\\Users\\\\swang8\\\\Desktop\\\\Research\\\\Project\\\\2\\\\reproduce_action_linear\\\\3\\\\examples\\\\paper\\\\results\\\\credit/credit_logreg_normalized',\n",
      "    'audit_recourse': True,\n",
      "    'audit_suffixes': [''],\n",
      "    'data_name': 'credit',\n",
      "    'dataset_file': 'C:\\\\Users\\\\swang8\\\\Desktop\\\\Research\\\\Project\\\\2\\\\reproduce_action_linear\\\\3\\\\examples\\\\paper\\\\data/credit_processed.csv',\n",
      "    'file_header': 'C:\\\\Users\\\\swang8\\\\Desktop\\\\Research\\\\Project\\\\2\\\\reproduce_action_linear\\\\3\\\\examples\\\\paper\\\\results\\\\credit/credit_logreg_normalized',\n",
      "    'force_rational_actions': False,\n",
      "    'method_name': 'logreg',\n",
      "    'method_suffixes': ['', 'normalized'],\n",
      "    'model_file': 'C:\\\\Users\\\\swang8\\\\Desktop\\\\Research\\\\Project\\\\2\\\\reproduce_action_linear\\\\3\\\\examples\\\\paper\\\\results\\\\credit/credit_logreg_normalized_models.pkl',\n",
      "    'normalize_data': True,\n",
      "    'plot_audits': True,\n",
      "    'print_flag': True,\n",
      "    'randomseed': 2338,\n",
      "    'save_flag': True}\n"
     ]
    }
   ],
   "source": [
    "\t# file names\n",
    "output_dir = results_dir / settings['data_name']\n",
    "output_dir.mkdir(exist_ok = True)\n",
    "\n",
    "if settings['normalize_data']:\n",
    "    settings['method_suffixes'].append('normalized')\n",
    "\n",
    "if settings['force_rational_actions']:\n",
    "    settings['audit_suffixes'].append('rational')\n",
    "\n",
    "# set file header\n",
    "settings['dataset_file'] = '%s/%s_processed.csv' % (data_dir, settings['data_name'])\n",
    "settings['file_header'] = '%s/%s_%s%s' % (output_dir, settings['data_name'], settings['method_name'], '_'.join(settings['method_suffixes']))\n",
    "settings['audit_file_header'] = '%s%s' % (settings['file_header'], '_'.join(settings['audit_suffixes']))\n",
    "settings['model_file'] = '%s_models.pkl' % settings['file_header']\n",
    "settings['audit_file'] = '%s_audit_results.pkl' % settings['audit_file_header']\n",
    "pp.pprint(settings)\n",
    "\n",
    "# data set\n",
    "data_df = pd.read_csv(settings['dataset_file'])\n",
    "data = {\n",
    "    'outcome_name': data_df.columns[0],\n",
    "    'variable_names': data_df.columns[1:].tolist(),\n",
    "    'X': data_df.iloc[:, 1:],\n",
    "    'y': data_df.iloc[:, 0]\n",
    "    }\n",
    "\n",
    "scaler = None\n",
    "data['X_train'] = data['X']\n",
    "data['scaler'] = None\n",
    "if settings['normalize_data']:\n",
    "    from sklearn.preprocessing import StandardScaler\n",
    "    scaler = StandardScaler(copy = True, with_mean = True, with_std = True)\n",
    "    data['X_scaled'] = pd.DataFrame(scaler.fit_transform(data['X'].to_numpy(dtype = float), data['y'].values), columns = data['X'].columns)\n",
    "    data['X_train'] = data['X_scaled']\n",
    "    data['scaler'] = scaler"
   ]
  },
  {
   "cell_type": "code",
   "execution_count": null,
   "id": "8cacbc77",
   "metadata": {},
   "outputs": [],
   "source": []
  },
  {
   "cell_type": "markdown",
   "id": "ecd8717d",
   "metadata": {},
   "source": [
    "# Set up our Actionset"
   ]
  },
  {
   "cell_type": "code",
   "execution_count": 4,
   "id": "130b4413",
   "metadata": {},
   "outputs": [],
   "source": [
    "default_bounds = (1.0, 99.0, 'percentile')\n",
    "custom_bounds = None\n",
    "immutable_variables = []\n",
    "if settings['data_name'] == 'credit':\n",
    "    ## set features in our input data that are immutable: \n",
    "    ##     i.e. individuals will not be asked to change any of these \n",
    "    ##          variables when the optimizer seeks recourse.\n",
    "    immutable_names = ['Female', 'Single', 'Married']\n",
    "    immutable_names += list(filter(lambda x: 'Age' in x or 'Overdue' in x, data['variable_names']))\n",
    "    data['immutable_variable_names'] = [n for n in immutable_names if n in data['variable_names']]\n",
    "\n",
    "    ## set the default and custom bounds we wish to search over.\n",
    "    default_bounds = (0.1, 99.9, 'percentile')\n",
    "    custom_bounds = {'Female': (0, 100, 'p'),  'Married': (0, 100, 'p')}\n",
    "    \n",
    "    ## \n",
    "    action_set = ActionSet(X = data['X'], custom_bounds = custom_bounds, default_bounds = default_bounds)\n",
    "    \n",
    "    for immutable_var in data['immutable_variable_names']:\n",
    "        action_set[immutable_var].mutable = False \n",
    "    #action_set[data['immutable_variable_names']].mutable = False\n",
    "\n",
    "    ## set other custom behaviors in each of the data types.\n",
    "    action_set['EducationLevel'].step_direction = 1\n",
    "    payment_fields = list(filter(lambda x: 'Amount' in x, data['variable_names']))\n",
    "    action_set[payment_fields].step_type = 'absolute'\n",
    "    action_set[payment_fields].step_size = 50\n",
    "\n",
    "    for p in payment_fields:\n",
    "        action_set[p].update_grid()\n"
   ]
  },
  {
   "cell_type": "code",
   "execution_count": null,
   "id": "d3fc0ce2",
   "metadata": {},
   "outputs": [],
   "source": []
  },
  {
   "cell_type": "markdown",
   "id": "322b10f4",
   "metadata": {},
   "source": [
    "# Generate a Flipset"
   ]
  },
  {
   "cell_type": "code",
   "execution_count": 5,
   "id": "bf472f1f",
   "metadata": {},
   "outputs": [
    {
     "name": "stdout",
     "output_type": "stream",
     "text": [
      "obtained 14 items in 0.8 seconds\n",
      "        cost size                                           features  \\\n",
      "0   0.393580    1                               [TotalMonthsOverdue]   \n",
      "1   0.416325    2  [MaxPaymentAmountOverLast6Months, TotalMonthsO...   \n",
      "2   0.417554    2  [MaxBillAmountOverLast6Months, TotalMonthsOver...   \n",
      "4   0.703737    2      [MostRecentPaymentAmount, TotalMonthsOverdue]   \n",
      "8   1.117688    2  [MonthsWithZeroBalanceOverLast6Months, TotalMo...   \n",
      "3   0.440300    3  [MaxBillAmountOverLast6Months, MaxPaymentAmoun...   \n",
      "5   0.726483    3  [MaxPaymentAmountOverLast6Months, MostRecentPa...   \n",
      "6   0.727712    3  [MaxBillAmountOverLast6Months, MostRecentPayme...   \n",
      "9   1.140434    3  [MaxPaymentAmountOverLast6Months, MonthsWithZe...   \n",
      "10  1.141663    3  [MaxBillAmountOverLast6Months, MonthsWithZeroB...   \n",
      "12  1.427846    3  [MonthsWithZeroBalanceOverLast6Months, MostRec...   \n",
      "7   0.750457    4  [MaxBillAmountOverLast6Months, MaxPaymentAmoun...   \n",
      "11  1.164409    4  [MaxBillAmountOverLast6Months, MaxPaymentAmoun...   \n",
      "13  1.450592    4  [MaxPaymentAmountOverLast6Months, MonthsWithZe...   \n",
      "\n",
      "                          x                     x_new  \n",
      "0                    [11.0]                     [9.0]  \n",
      "1              [40.0, 11.0]               [50.0, 9.0]  \n",
      "2              [50.0, 11.0]              [100.0, 9.0]  \n",
      "4               [0.0, 11.0]               [50.0, 9.0]  \n",
      "8               [1.0, 11.0]                [2.0, 9.0]  \n",
      "3        [50.0, 40.0, 11.0]        [100.0, 50.0, 9.0]  \n",
      "5         [40.0, 0.0, 11.0]         [50.0, 50.0, 9.0]  \n",
      "6         [50.0, 0.0, 11.0]        [100.0, 50.0, 9.0]  \n",
      "9         [40.0, 1.0, 11.0]          [50.0, 2.0, 9.0]  \n",
      "10        [50.0, 1.0, 11.0]         [100.0, 2.0, 9.0]  \n",
      "12         [1.0, 0.0, 11.0]          [2.0, 50.0, 9.0]  \n",
      "7   [50.0, 40.0, 0.0, 11.0]  [100.0, 50.0, 50.0, 9.0]  \n",
      "11  [50.0, 40.0, 1.0, 11.0]   [100.0, 50.0, 2.0, 9.0]  \n",
      "13   [40.0, 1.0, 0.0, 11.0]    [50.0, 2.0, 50.0, 9.0]  \n"
     ]
    }
   ],
   "source": [
    "# model\n",
    "model_stats = pickle.load(open(settings['model_file'], 'rb'))\n",
    "\n",
    "# need the file -> \n",
    "# paper/results/credit -> credit_logreg_normalized_models.pkl \n",
    "\n",
    "all_models = model_stats.pop('all_models')\n",
    "\n",
    "### Create Flipset\n",
    "clf = all_models['C_0.02__max_iter_1000__penalty_l1__solver_saga__tol_1e-08']\n",
    "yhat = clf.predict(X = data['X_train'])\n",
    "coefficients, intercept = undo_coefficient_scaling(clf, scaler = data['scaler'])\n",
    "\n",
    "action_set.set_alignment(coefficients)\n",
    "#action_set.align(coefficients)\n",
    "\n",
    "predicted_neg = np.flatnonzero(yhat < 1)\n",
    "U = data['X'].iloc[predicted_neg].values\n",
    "k = 4\n",
    "fb = Flipset(x = U[k], action_set = action_set, coefficients = coefficients, intercept = intercept)\n",
    "fb.populate(enumeration_type = 'distinct_subsets', total_items = 14)\n",
    "print(fb)\n"
   ]
  },
  {
   "cell_type": "code",
   "execution_count": 6,
   "id": "95a12f60",
   "metadata": {},
   "outputs": [
    {
     "data": {
      "text/html": [
       "<style type=\"text/css\">\n",
       "#T_5608b_ tr {\n",
       "  background-color: white;\n",
       "}\n",
       "#T_5608b_row0_col0, #T_5608b_row0_col1, #T_5608b_row0_col2, #T_5608b_row0_col3, #T_5608b_row3_col0, #T_5608b_row3_col1, #T_5608b_row3_col2, #T_5608b_row3_col3, #T_5608b_row4_col0, #T_5608b_row4_col1, #T_5608b_row4_col2, #T_5608b_row4_col3, #T_5608b_row8_col0, #T_5608b_row8_col1, #T_5608b_row8_col2, #T_5608b_row8_col3, #T_5608b_row9_col0, #T_5608b_row9_col1, #T_5608b_row9_col2, #T_5608b_row9_col3, #T_5608b_row13_col0, #T_5608b_row13_col1, #T_5608b_row13_col2, #T_5608b_row13_col3, #T_5608b_row14_col0, #T_5608b_row14_col1, #T_5608b_row14_col2, #T_5608b_row14_col3, #T_5608b_row15_col0, #T_5608b_row15_col1, #T_5608b_row15_col2, #T_5608b_row15_col3, #T_5608b_row20_col0, #T_5608b_row20_col1, #T_5608b_row20_col2, #T_5608b_row20_col3, #T_5608b_row21_col0, #T_5608b_row21_col1, #T_5608b_row21_col2, #T_5608b_row21_col3, #T_5608b_row25_col0, #T_5608b_row25_col1, #T_5608b_row25_col2, #T_5608b_row25_col3, #T_5608b_row26_col0, #T_5608b_row26_col1, #T_5608b_row26_col2, #T_5608b_row26_col3, #T_5608b_row27_col0, #T_5608b_row27_col1, #T_5608b_row27_col2, #T_5608b_row27_col3, #T_5608b_row32_col0, #T_5608b_row32_col1, #T_5608b_row32_col2, #T_5608b_row32_col3, #T_5608b_row33_col0, #T_5608b_row33_col1, #T_5608b_row33_col2, #T_5608b_row33_col3, #T_5608b_row34_col0, #T_5608b_row34_col1, #T_5608b_row34_col2, #T_5608b_row34_col3 {\n",
       "  background-color: #e2efd8;\n",
       "}\n",
       "#T_5608b_row1_col0, #T_5608b_row1_col1, #T_5608b_row1_col2, #T_5608b_row1_col3, #T_5608b_row2_col0, #T_5608b_row2_col1, #T_5608b_row2_col2, #T_5608b_row2_col3, #T_5608b_row5_col0, #T_5608b_row5_col1, #T_5608b_row5_col2, #T_5608b_row5_col3, #T_5608b_row6_col0, #T_5608b_row6_col1, #T_5608b_row6_col2, #T_5608b_row6_col3, #T_5608b_row7_col0, #T_5608b_row7_col1, #T_5608b_row7_col2, #T_5608b_row7_col3, #T_5608b_row10_col0, #T_5608b_row10_col1, #T_5608b_row10_col2, #T_5608b_row10_col3, #T_5608b_row11_col0, #T_5608b_row11_col1, #T_5608b_row11_col2, #T_5608b_row11_col3, #T_5608b_row12_col0, #T_5608b_row12_col1, #T_5608b_row12_col2, #T_5608b_row12_col3, #T_5608b_row16_col0, #T_5608b_row16_col1, #T_5608b_row16_col2, #T_5608b_row16_col3, #T_5608b_row17_col0, #T_5608b_row17_col1, #T_5608b_row17_col2, #T_5608b_row17_col3, #T_5608b_row18_col0, #T_5608b_row18_col1, #T_5608b_row18_col2, #T_5608b_row18_col3, #T_5608b_row19_col0, #T_5608b_row19_col1, #T_5608b_row19_col2, #T_5608b_row19_col3, #T_5608b_row22_col0, #T_5608b_row22_col1, #T_5608b_row22_col2, #T_5608b_row22_col3, #T_5608b_row23_col0, #T_5608b_row23_col1, #T_5608b_row23_col2, #T_5608b_row23_col3, #T_5608b_row24_col0, #T_5608b_row24_col1, #T_5608b_row24_col2, #T_5608b_row24_col3, #T_5608b_row28_col0, #T_5608b_row28_col1, #T_5608b_row28_col2, #T_5608b_row28_col3, #T_5608b_row29_col0, #T_5608b_row29_col1, #T_5608b_row29_col2, #T_5608b_row29_col3, #T_5608b_row30_col0, #T_5608b_row30_col1, #T_5608b_row30_col2, #T_5608b_row30_col3, #T_5608b_row31_col0, #T_5608b_row31_col1, #T_5608b_row31_col2, #T_5608b_row31_col3, #T_5608b_row35_col0, #T_5608b_row35_col1, #T_5608b_row35_col2, #T_5608b_row35_col3, #T_5608b_row36_col0, #T_5608b_row36_col1, #T_5608b_row36_col2, #T_5608b_row36_col3, #T_5608b_row37_col0, #T_5608b_row37_col1, #T_5608b_row37_col2, #T_5608b_row37_col3, #T_5608b_row38_col0, #T_5608b_row38_col1, #T_5608b_row38_col2, #T_5608b_row38_col3 {\n",
       "  background-color: white;\n",
       "}\n",
       "</style>\n",
       "<table id=\"T_5608b_\">\n",
       "  <thead>\n",
       "    <tr>\n",
       "      <th class=\"col_heading level0 col0\" >Features to Change</th>\n",
       "      <th class=\"col_heading level0 col1\" >Current Value</th>\n",
       "      <th class=\"col_heading level0 col2\" >to</th>\n",
       "      <th class=\"col_heading level0 col3\" >Required Value</th>\n",
       "    </tr>\n",
       "  </thead>\n",
       "  <tbody>\n",
       "    <tr>\n",
       "      <td id=\"T_5608b_row0_col0\" class=\"data row0 col0\" >TotalMonthsOverdue</td>\n",
       "      <td id=\"T_5608b_row0_col1\" class=\"data row0 col1\" >11</td>\n",
       "      <td id=\"T_5608b_row0_col2\" class=\"data row0 col2\" >&#8594;</td>\n",
       "      <td id=\"T_5608b_row0_col3\" class=\"data row0 col3\" >9</td>\n",
       "    </tr>\n",
       "    <tr>\n",
       "      <td id=\"T_5608b_row1_col0\" class=\"data row1 col0\" >MaxPaymentAmountOverLast6Months</td>\n",
       "      <td id=\"T_5608b_row1_col1\" class=\"data row1 col1\" >40</td>\n",
       "      <td id=\"T_5608b_row1_col2\" class=\"data row1 col2\" >&#8594;</td>\n",
       "      <td id=\"T_5608b_row1_col3\" class=\"data row1 col3\" >50</td>\n",
       "    </tr>\n",
       "    <tr>\n",
       "      <td id=\"T_5608b_row2_col0\" class=\"data row2 col0\" >TotalMonthsOverdue</td>\n",
       "      <td id=\"T_5608b_row2_col1\" class=\"data row2 col1\" >11</td>\n",
       "      <td id=\"T_5608b_row2_col2\" class=\"data row2 col2\" >&#8594;</td>\n",
       "      <td id=\"T_5608b_row2_col3\" class=\"data row2 col3\" >9</td>\n",
       "    </tr>\n",
       "    <tr>\n",
       "      <td id=\"T_5608b_row3_col0\" class=\"data row3 col0\" >MaxBillAmountOverLast6Months</td>\n",
       "      <td id=\"T_5608b_row3_col1\" class=\"data row3 col1\" >50</td>\n",
       "      <td id=\"T_5608b_row3_col2\" class=\"data row3 col2\" >&#8594;</td>\n",
       "      <td id=\"T_5608b_row3_col3\" class=\"data row3 col3\" >100</td>\n",
       "    </tr>\n",
       "    <tr>\n",
       "      <td id=\"T_5608b_row4_col0\" class=\"data row4 col0\" >TotalMonthsOverdue</td>\n",
       "      <td id=\"T_5608b_row4_col1\" class=\"data row4 col1\" >11</td>\n",
       "      <td id=\"T_5608b_row4_col2\" class=\"data row4 col2\" >&#8594;</td>\n",
       "      <td id=\"T_5608b_row4_col3\" class=\"data row4 col3\" >9</td>\n",
       "    </tr>\n",
       "    <tr>\n",
       "      <td id=\"T_5608b_row5_col0\" class=\"data row5 col0\" >TotalMonthsOverdue</td>\n",
       "      <td id=\"T_5608b_row5_col1\" class=\"data row5 col1\" >11</td>\n",
       "      <td id=\"T_5608b_row5_col2\" class=\"data row5 col2\" >&#8594;</td>\n",
       "      <td id=\"T_5608b_row5_col3\" class=\"data row5 col3\" >9</td>\n",
       "    </tr>\n",
       "    <tr>\n",
       "      <td id=\"T_5608b_row6_col0\" class=\"data row6 col0\" >MaxBillAmountOverLast6Months</td>\n",
       "      <td id=\"T_5608b_row6_col1\" class=\"data row6 col1\" >50</td>\n",
       "      <td id=\"T_5608b_row6_col2\" class=\"data row6 col2\" >&#8594;</td>\n",
       "      <td id=\"T_5608b_row6_col3\" class=\"data row6 col3\" >100</td>\n",
       "    </tr>\n",
       "    <tr>\n",
       "      <td id=\"T_5608b_row7_col0\" class=\"data row7 col0\" >MaxPaymentAmountOverLast6Months</td>\n",
       "      <td id=\"T_5608b_row7_col1\" class=\"data row7 col1\" >40</td>\n",
       "      <td id=\"T_5608b_row7_col2\" class=\"data row7 col2\" >&#8594;</td>\n",
       "      <td id=\"T_5608b_row7_col3\" class=\"data row7 col3\" >50</td>\n",
       "    </tr>\n",
       "    <tr>\n",
       "      <td id=\"T_5608b_row8_col0\" class=\"data row8 col0\" >TotalMonthsOverdue</td>\n",
       "      <td id=\"T_5608b_row8_col1\" class=\"data row8 col1\" >11</td>\n",
       "      <td id=\"T_5608b_row8_col2\" class=\"data row8 col2\" >&#8594;</td>\n",
       "      <td id=\"T_5608b_row8_col3\" class=\"data row8 col3\" >9</td>\n",
       "    </tr>\n",
       "    <tr>\n",
       "      <td id=\"T_5608b_row9_col0\" class=\"data row9 col0\" >MostRecentPaymentAmount</td>\n",
       "      <td id=\"T_5608b_row9_col1\" class=\"data row9 col1\" >0</td>\n",
       "      <td id=\"T_5608b_row9_col2\" class=\"data row9 col2\" >&#8594;</td>\n",
       "      <td id=\"T_5608b_row9_col3\" class=\"data row9 col3\" >50</td>\n",
       "    </tr>\n",
       "    <tr>\n",
       "      <td id=\"T_5608b_row10_col0\" class=\"data row10 col0\" >MaxPaymentAmountOverLast6Months</td>\n",
       "      <td id=\"T_5608b_row10_col1\" class=\"data row10 col1\" >40</td>\n",
       "      <td id=\"T_5608b_row10_col2\" class=\"data row10 col2\" >&#8594;</td>\n",
       "      <td id=\"T_5608b_row10_col3\" class=\"data row10 col3\" >50</td>\n",
       "    </tr>\n",
       "    <tr>\n",
       "      <td id=\"T_5608b_row11_col0\" class=\"data row11 col0\" >MostRecentPaymentAmount</td>\n",
       "      <td id=\"T_5608b_row11_col1\" class=\"data row11 col1\" >0</td>\n",
       "      <td id=\"T_5608b_row11_col2\" class=\"data row11 col2\" >&#8594;</td>\n",
       "      <td id=\"T_5608b_row11_col3\" class=\"data row11 col3\" >50</td>\n",
       "    </tr>\n",
       "    <tr>\n",
       "      <td id=\"T_5608b_row12_col0\" class=\"data row12 col0\" >TotalMonthsOverdue</td>\n",
       "      <td id=\"T_5608b_row12_col1\" class=\"data row12 col1\" >11</td>\n",
       "      <td id=\"T_5608b_row12_col2\" class=\"data row12 col2\" >&#8594;</td>\n",
       "      <td id=\"T_5608b_row12_col3\" class=\"data row12 col3\" >9</td>\n",
       "    </tr>\n",
       "    <tr>\n",
       "      <td id=\"T_5608b_row13_col0\" class=\"data row13 col0\" >MaxBillAmountOverLast6Months</td>\n",
       "      <td id=\"T_5608b_row13_col1\" class=\"data row13 col1\" >50</td>\n",
       "      <td id=\"T_5608b_row13_col2\" class=\"data row13 col2\" >&#8594;</td>\n",
       "      <td id=\"T_5608b_row13_col3\" class=\"data row13 col3\" >100</td>\n",
       "    </tr>\n",
       "    <tr>\n",
       "      <td id=\"T_5608b_row14_col0\" class=\"data row14 col0\" >MostRecentPaymentAmount</td>\n",
       "      <td id=\"T_5608b_row14_col1\" class=\"data row14 col1\" >0</td>\n",
       "      <td id=\"T_5608b_row14_col2\" class=\"data row14 col2\" >&#8594;</td>\n",
       "      <td id=\"T_5608b_row14_col3\" class=\"data row14 col3\" >50</td>\n",
       "    </tr>\n",
       "    <tr>\n",
       "      <td id=\"T_5608b_row15_col0\" class=\"data row15 col0\" >TotalMonthsOverdue</td>\n",
       "      <td id=\"T_5608b_row15_col1\" class=\"data row15 col1\" >11</td>\n",
       "      <td id=\"T_5608b_row15_col2\" class=\"data row15 col2\" >&#8594;</td>\n",
       "      <td id=\"T_5608b_row15_col3\" class=\"data row15 col3\" >9</td>\n",
       "    </tr>\n",
       "    <tr>\n",
       "      <td id=\"T_5608b_row16_col0\" class=\"data row16 col0\" >MaxPaymentAmountOverLast6Months</td>\n",
       "      <td id=\"T_5608b_row16_col1\" class=\"data row16 col1\" >40</td>\n",
       "      <td id=\"T_5608b_row16_col2\" class=\"data row16 col2\" >&#8594;</td>\n",
       "      <td id=\"T_5608b_row16_col3\" class=\"data row16 col3\" >50</td>\n",
       "    </tr>\n",
       "    <tr>\n",
       "      <td id=\"T_5608b_row17_col0\" class=\"data row17 col0\" >TotalMonthsOverdue</td>\n",
       "      <td id=\"T_5608b_row17_col1\" class=\"data row17 col1\" >11</td>\n",
       "      <td id=\"T_5608b_row17_col2\" class=\"data row17 col2\" >&#8594;</td>\n",
       "      <td id=\"T_5608b_row17_col3\" class=\"data row17 col3\" >9</td>\n",
       "    </tr>\n",
       "    <tr>\n",
       "      <td id=\"T_5608b_row18_col0\" class=\"data row18 col0\" >MostRecentPaymentAmount</td>\n",
       "      <td id=\"T_5608b_row18_col1\" class=\"data row18 col1\" >0</td>\n",
       "      <td id=\"T_5608b_row18_col2\" class=\"data row18 col2\" >&#8594;</td>\n",
       "      <td id=\"T_5608b_row18_col3\" class=\"data row18 col3\" >50</td>\n",
       "    </tr>\n",
       "    <tr>\n",
       "      <td id=\"T_5608b_row19_col0\" class=\"data row19 col0\" >MaxBillAmountOverLast6Months</td>\n",
       "      <td id=\"T_5608b_row19_col1\" class=\"data row19 col1\" >50</td>\n",
       "      <td id=\"T_5608b_row19_col2\" class=\"data row19 col2\" >&#8594;</td>\n",
       "      <td id=\"T_5608b_row19_col3\" class=\"data row19 col3\" >100</td>\n",
       "    </tr>\n",
       "    <tr>\n",
       "      <td id=\"T_5608b_row20_col0\" class=\"data row20 col0\" >TotalMonthsOverdue</td>\n",
       "      <td id=\"T_5608b_row20_col1\" class=\"data row20 col1\" >11</td>\n",
       "      <td id=\"T_5608b_row20_col2\" class=\"data row20 col2\" >&#8594;</td>\n",
       "      <td id=\"T_5608b_row20_col3\" class=\"data row20 col3\" >9</td>\n",
       "    </tr>\n",
       "    <tr>\n",
       "      <td id=\"T_5608b_row21_col0\" class=\"data row21 col0\" >MonthsWithZeroBalanceOverLast6Months</td>\n",
       "      <td id=\"T_5608b_row21_col1\" class=\"data row21 col1\" >1</td>\n",
       "      <td id=\"T_5608b_row21_col2\" class=\"data row21 col2\" >&#8594;</td>\n",
       "      <td id=\"T_5608b_row21_col3\" class=\"data row21 col3\" >2</td>\n",
       "    </tr>\n",
       "    <tr>\n",
       "      <td id=\"T_5608b_row22_col0\" class=\"data row22 col0\" >MonthsWithZeroBalanceOverLast6Months</td>\n",
       "      <td id=\"T_5608b_row22_col1\" class=\"data row22 col1\" >1</td>\n",
       "      <td id=\"T_5608b_row22_col2\" class=\"data row22 col2\" >&#8594;</td>\n",
       "      <td id=\"T_5608b_row22_col3\" class=\"data row22 col3\" >2</td>\n",
       "    </tr>\n",
       "    <tr>\n",
       "      <td id=\"T_5608b_row23_col0\" class=\"data row23 col0\" >TotalMonthsOverdue</td>\n",
       "      <td id=\"T_5608b_row23_col1\" class=\"data row23 col1\" >11</td>\n",
       "      <td id=\"T_5608b_row23_col2\" class=\"data row23 col2\" >&#8594;</td>\n",
       "      <td id=\"T_5608b_row23_col3\" class=\"data row23 col3\" >9</td>\n",
       "    </tr>\n",
       "    <tr>\n",
       "      <td id=\"T_5608b_row24_col0\" class=\"data row24 col0\" >MaxPaymentAmountOverLast6Months</td>\n",
       "      <td id=\"T_5608b_row24_col1\" class=\"data row24 col1\" >40</td>\n",
       "      <td id=\"T_5608b_row24_col2\" class=\"data row24 col2\" >&#8594;</td>\n",
       "      <td id=\"T_5608b_row24_col3\" class=\"data row24 col3\" >50</td>\n",
       "    </tr>\n",
       "    <tr>\n",
       "      <td id=\"T_5608b_row25_col0\" class=\"data row25 col0\" >TotalMonthsOverdue</td>\n",
       "      <td id=\"T_5608b_row25_col1\" class=\"data row25 col1\" >11</td>\n",
       "      <td id=\"T_5608b_row25_col2\" class=\"data row25 col2\" >&#8594;</td>\n",
       "      <td id=\"T_5608b_row25_col3\" class=\"data row25 col3\" >9</td>\n",
       "    </tr>\n",
       "    <tr>\n",
       "      <td id=\"T_5608b_row26_col0\" class=\"data row26 col0\" >MaxBillAmountOverLast6Months</td>\n",
       "      <td id=\"T_5608b_row26_col1\" class=\"data row26 col1\" >50</td>\n",
       "      <td id=\"T_5608b_row26_col2\" class=\"data row26 col2\" >&#8594;</td>\n",
       "      <td id=\"T_5608b_row26_col3\" class=\"data row26 col3\" >100</td>\n",
       "    </tr>\n",
       "    <tr>\n",
       "      <td id=\"T_5608b_row27_col0\" class=\"data row27 col0\" >MonthsWithZeroBalanceOverLast6Months</td>\n",
       "      <td id=\"T_5608b_row27_col1\" class=\"data row27 col1\" >1</td>\n",
       "      <td id=\"T_5608b_row27_col2\" class=\"data row27 col2\" >&#8594;</td>\n",
       "      <td id=\"T_5608b_row27_col3\" class=\"data row27 col3\" >2</td>\n",
       "    </tr>\n",
       "    <tr>\n",
       "      <td id=\"T_5608b_row28_col0\" class=\"data row28 col0\" >MaxBillAmountOverLast6Months</td>\n",
       "      <td id=\"T_5608b_row28_col1\" class=\"data row28 col1\" >50</td>\n",
       "      <td id=\"T_5608b_row28_col2\" class=\"data row28 col2\" >&#8594;</td>\n",
       "      <td id=\"T_5608b_row28_col3\" class=\"data row28 col3\" >100</td>\n",
       "    </tr>\n",
       "    <tr>\n",
       "      <td id=\"T_5608b_row29_col0\" class=\"data row29 col0\" >MaxPaymentAmountOverLast6Months</td>\n",
       "      <td id=\"T_5608b_row29_col1\" class=\"data row29 col1\" >40</td>\n",
       "      <td id=\"T_5608b_row29_col2\" class=\"data row29 col2\" >&#8594;</td>\n",
       "      <td id=\"T_5608b_row29_col3\" class=\"data row29 col3\" >50</td>\n",
       "    </tr>\n",
       "    <tr>\n",
       "      <td id=\"T_5608b_row30_col0\" class=\"data row30 col0\" >MonthsWithZeroBalanceOverLast6Months</td>\n",
       "      <td id=\"T_5608b_row30_col1\" class=\"data row30 col1\" >1</td>\n",
       "      <td id=\"T_5608b_row30_col2\" class=\"data row30 col2\" >&#8594;</td>\n",
       "      <td id=\"T_5608b_row30_col3\" class=\"data row30 col3\" >2</td>\n",
       "    </tr>\n",
       "    <tr>\n",
       "      <td id=\"T_5608b_row31_col0\" class=\"data row31 col0\" >TotalMonthsOverdue</td>\n",
       "      <td id=\"T_5608b_row31_col1\" class=\"data row31 col1\" >11</td>\n",
       "      <td id=\"T_5608b_row31_col2\" class=\"data row31 col2\" >&#8594;</td>\n",
       "      <td id=\"T_5608b_row31_col3\" class=\"data row31 col3\" >9</td>\n",
       "    </tr>\n",
       "    <tr>\n",
       "      <td id=\"T_5608b_row32_col0\" class=\"data row32 col0\" >MonthsWithZeroBalanceOverLast6Months</td>\n",
       "      <td id=\"T_5608b_row32_col1\" class=\"data row32 col1\" >1</td>\n",
       "      <td id=\"T_5608b_row32_col2\" class=\"data row32 col2\" >&#8594;</td>\n",
       "      <td id=\"T_5608b_row32_col3\" class=\"data row32 col3\" >2</td>\n",
       "    </tr>\n",
       "    <tr>\n",
       "      <td id=\"T_5608b_row33_col0\" class=\"data row33 col0\" >MostRecentPaymentAmount</td>\n",
       "      <td id=\"T_5608b_row33_col1\" class=\"data row33 col1\" >0</td>\n",
       "      <td id=\"T_5608b_row33_col2\" class=\"data row33 col2\" >&#8594;</td>\n",
       "      <td id=\"T_5608b_row33_col3\" class=\"data row33 col3\" >50</td>\n",
       "    </tr>\n",
       "    <tr>\n",
       "      <td id=\"T_5608b_row34_col0\" class=\"data row34 col0\" >TotalMonthsOverdue</td>\n",
       "      <td id=\"T_5608b_row34_col1\" class=\"data row34 col1\" >11</td>\n",
       "      <td id=\"T_5608b_row34_col2\" class=\"data row34 col2\" >&#8594;</td>\n",
       "      <td id=\"T_5608b_row34_col3\" class=\"data row34 col3\" >9</td>\n",
       "    </tr>\n",
       "    <tr>\n",
       "      <td id=\"T_5608b_row35_col0\" class=\"data row35 col0\" >MostRecentPaymentAmount</td>\n",
       "      <td id=\"T_5608b_row35_col1\" class=\"data row35 col1\" >0</td>\n",
       "      <td id=\"T_5608b_row35_col2\" class=\"data row35 col2\" >&#8594;</td>\n",
       "      <td id=\"T_5608b_row35_col3\" class=\"data row35 col3\" >50</td>\n",
       "    </tr>\n",
       "    <tr>\n",
       "      <td id=\"T_5608b_row36_col0\" class=\"data row36 col0\" >MaxPaymentAmountOverLast6Months</td>\n",
       "      <td id=\"T_5608b_row36_col1\" class=\"data row36 col1\" >40</td>\n",
       "      <td id=\"T_5608b_row36_col2\" class=\"data row36 col2\" >&#8594;</td>\n",
       "      <td id=\"T_5608b_row36_col3\" class=\"data row36 col3\" >50</td>\n",
       "    </tr>\n",
       "    <tr>\n",
       "      <td id=\"T_5608b_row37_col0\" class=\"data row37 col0\" >MonthsWithZeroBalanceOverLast6Months</td>\n",
       "      <td id=\"T_5608b_row37_col1\" class=\"data row37 col1\" >1</td>\n",
       "      <td id=\"T_5608b_row37_col2\" class=\"data row37 col2\" >&#8594;</td>\n",
       "      <td id=\"T_5608b_row37_col3\" class=\"data row37 col3\" >2</td>\n",
       "    </tr>\n",
       "    <tr>\n",
       "      <td id=\"T_5608b_row38_col0\" class=\"data row38 col0\" >TotalMonthsOverdue</td>\n",
       "      <td id=\"T_5608b_row38_col1\" class=\"data row38 col1\" >11</td>\n",
       "      <td id=\"T_5608b_row38_col2\" class=\"data row38 col2\" >&#8594;</td>\n",
       "      <td id=\"T_5608b_row38_col3\" class=\"data row38 col3\" >9</td>\n",
       "    </tr>\n",
       "  </tbody>\n",
       "</table>\n"
      ],
      "text/plain": [
       "<IPython.core.display.HTML object>"
      ]
     },
     "execution_count": 6,
     "metadata": {},
     "output_type": "execute_result"
    }
   ],
   "source": [
    "from IPython.display import HTML\n",
    "HTML(fb.to_html())"
   ]
  },
  {
   "cell_type": "code",
   "execution_count": null,
   "id": "0130e046",
   "metadata": {},
   "outputs": [],
   "source": []
  },
  {
   "cell_type": "markdown",
   "id": "80739da7",
   "metadata": {},
   "source": [
    "## Train classifiers"
   ]
  },
  {
   "cell_type": "code",
   "execution_count": 7,
   "id": "39241a11",
   "metadata": {},
   "outputs": [
    {
     "name": "stdout",
     "output_type": "stream",
     "text": [
      "Fitting 10 folds for each of 10 candidates, totalling 100 fits\n"
     ]
    },
    {
     "name": "stderr",
     "output_type": "stream",
     "text": [
      "C:\\Users\\swang8\\AppData\\Local\\Temp/ipykernel_18712/621617741.py:29: FutureWarning: The pandas.np module is deprecated and will be removed from pandas in a future version. Import numpy directly instead\n",
      "  grid_search_df['key'] = pd.np.nan\n",
      "C:\\Users\\swang8\\AppData\\Local\\Temp/ipykernel_18712/621617741.py:30: TqdmDeprecationWarning: This function will be removed in tqdm==5.0.0\n",
      "Please use `tqdm.notebook.tqdm` instead of `tqdm.tqdm_notebook`\n",
      "  for idx, p in tqdm_notebook(list(grid_search_df.params.iteritems())):\n"
     ]
    },
    {
     "data": {
      "application/vnd.jupyter.widget-view+json": {
       "model_id": "3764c1b66fa147d78d511903f1813035",
       "version_major": 2,
       "version_minor": 0
      },
      "text/plain": [
       "  0%|          | 0/10 [00:00<?, ?it/s]"
      ]
     },
     "metadata": {},
     "output_type": "display_data"
    }
   ],
   "source": [
    "from copy import deepcopy as copy \n",
    "from sklearn.model_selection import StratifiedKFold as CVGenerator\n",
    "from sklearn.model_selection import GridSearchCV\n",
    "\n",
    "\n",
    "cv_generator = CVGenerator(n_splits = 10, random_state = settings['randomseed'], shuffle = True)\n",
    "\n",
    "# this code is for general purpose train/test evaluation using GridSearchCV\n",
    "gridsearch = GridSearchCV(\n",
    "    # original: [1, 2, 5, 10, 20, 50, 100, 200, 500, 1000]\n",
    "    clf, param_grid={\"C\":[1.0 / l for l in [1, 2, 5, 10, 20, 50, 100, 200, 500, 1000]]},\n",
    "    #clf, param_grid={\"C\":[1.0 / l for l in [1, 2, 5,]]},\n",
    "    scoring='neg_mean_squared_error',\n",
    "    return_train_score=True,\n",
    "    cv=cv_generator,\n",
    "    verbose=1,\n",
    "    n_jobs=-1\n",
    ")\n",
    "\n",
    "if settings['normalize_data']:\n",
    "    gridsearch.fit(data['X_scaled'], data['y'])\n",
    "else:\n",
    "    gridsearch.fit(data['X'], data['y'])\n",
    "grid_search_df = pd.DataFrame(gridsearch.cv_results_)\n",
    "\n",
    "\n",
    "# cache a model for each parameter combination, trained on all data\n",
    "model_dict = {}\n",
    "grid_search_df['key'] = pd.np.nan\n",
    "for idx, p in tqdm_notebook(list(grid_search_df.params.iteritems())):\n",
    "    if settings['normalize_data']:\n",
    "        model = copy(clf.set_params(**p)).fit(data['X_scaled'], data['y'])\n",
    "    else:\n",
    "        model = copy(clf.set_params(**p)).fit(data['X'], data['y'])\n",
    "\n",
    "    key = '__'.join(map(lambda x: '%s_%s' % x, p.items()))\n",
    "    model_dict[key] = model\n",
    "    grid_search_df.loc[idx, 'key'] = key\n",
    "\n",
    "\n",
    "model_stats_df = refomat_gridsearch_df(\n",
    "    grid_search_df,\n",
    "    settings=settings,\n",
    "    n_coefficients = data['X'].shape[1],\n",
    "    invert_C=settings['method_name'] == 'logreg'\n",
    ")\n"
   ]
  },
  {
   "cell_type": "code",
   "execution_count": null,
   "id": "4bbfa16d",
   "metadata": {},
   "outputs": [],
   "source": []
  },
  {
   "cell_type": "markdown",
   "id": "9ac2cd51",
   "metadata": {},
   "source": [
    "# Run Audit"
   ]
  },
  {
   "cell_type": "code",
   "execution_count": 8,
   "id": "d1692339",
   "metadata": {
    "scrolled": true
   },
   "outputs": [
    {
     "name": "stdout",
     "output_type": "stream",
     "text": [
      "Auditing for model C_1.0...\n"
     ]
    },
    {
     "data": {
      "application/vnd.jupyter.widget-view+json": {
       "model_id": "0d36c85b1a5f4001aaf0f2ec590cfe7a",
       "version_major": 2,
       "version_minor": 0
      },
      "text/plain": [
       "  0%|          | 0/2903 [00:00<?, ?it/s]"
      ]
     },
     "metadata": {},
     "output_type": "display_data"
    },
    {
     "name": "stdout",
     "output_type": "stream",
     "text": [
      "Auditing for model C_0.5...\n"
     ]
    },
    {
     "data": {
      "application/vnd.jupyter.widget-view+json": {
       "model_id": "c4936cb4de114d409d2e36f4fdc9cb14",
       "version_major": 2,
       "version_minor": 0
      },
      "text/plain": [
       "  0%|          | 0/2902 [00:00<?, ?it/s]"
      ]
     },
     "metadata": {},
     "output_type": "display_data"
    },
    {
     "name": "stdout",
     "output_type": "stream",
     "text": [
      "Auditing for model C_0.2...\n"
     ]
    },
    {
     "data": {
      "application/vnd.jupyter.widget-view+json": {
       "model_id": "8cc2fb571b5d41c2a1a3c080fb07d871",
       "version_major": 2,
       "version_minor": 0
      },
      "text/plain": [
       "  0%|          | 0/2898 [00:00<?, ?it/s]"
      ]
     },
     "metadata": {},
     "output_type": "display_data"
    },
    {
     "name": "stdout",
     "output_type": "stream",
     "text": [
      "Auditing for model C_0.1...\n"
     ]
    },
    {
     "data": {
      "application/vnd.jupyter.widget-view+json": {
       "model_id": "4a2cbeca3c40403ebc4c6721066fb130",
       "version_major": 2,
       "version_minor": 0
      },
      "text/plain": [
       "  0%|          | 0/2901 [00:00<?, ?it/s]"
      ]
     },
     "metadata": {},
     "output_type": "display_data"
    },
    {
     "name": "stdout",
     "output_type": "stream",
     "text": [
      "Auditing for model C_0.05...\n"
     ]
    },
    {
     "data": {
      "application/vnd.jupyter.widget-view+json": {
       "model_id": "ded50cf4f9d4413e99abe2ce52151b0a",
       "version_major": 2,
       "version_minor": 0
      },
      "text/plain": [
       "  0%|          | 0/2880 [00:00<?, ?it/s]"
      ]
     },
     "metadata": {},
     "output_type": "display_data"
    },
    {
     "name": "stdout",
     "output_type": "stream",
     "text": [
      "Auditing for model C_0.02...\n"
     ]
    },
    {
     "data": {
      "application/vnd.jupyter.widget-view+json": {
       "model_id": "a6ffe7b0ec1e4a7d91d93901ec433287",
       "version_major": 2,
       "version_minor": 0
      },
      "text/plain": [
       "  0%|          | 0/2867 [00:00<?, ?it/s]"
      ]
     },
     "metadata": {},
     "output_type": "display_data"
    },
    {
     "name": "stdout",
     "output_type": "stream",
     "text": [
      "Auditing for model C_0.01...\n"
     ]
    },
    {
     "data": {
      "application/vnd.jupyter.widget-view+json": {
       "model_id": "c7b486094c514610b3051762a6b3d21a",
       "version_major": 2,
       "version_minor": 0
      },
      "text/plain": [
       "  0%|          | 0/2808 [00:00<?, ?it/s]"
      ]
     },
     "metadata": {},
     "output_type": "display_data"
    },
    {
     "name": "stdout",
     "output_type": "stream",
     "text": [
      "Auditing for model C_0.005...\n"
     ]
    },
    {
     "data": {
      "application/vnd.jupyter.widget-view+json": {
       "model_id": "befec145f0f24dd8b6e1bf51bfbb55ab",
       "version_major": 2,
       "version_minor": 0
      },
      "text/plain": [
       "  0%|          | 0/2664 [00:00<?, ?it/s]"
      ]
     },
     "metadata": {},
     "output_type": "display_data"
    },
    {
     "name": "stdout",
     "output_type": "stream",
     "text": [
      "Auditing for model C_0.002...\n"
     ]
    },
    {
     "data": {
      "application/vnd.jupyter.widget-view+json": {
       "model_id": "2246bf00b7254efc9164a73befb89345",
       "version_major": 2,
       "version_minor": 0
      },
      "text/plain": [
       "  0%|          | 0/2237 [00:00<?, ?it/s]"
      ]
     },
     "metadata": {},
     "output_type": "display_data"
    },
    {
     "name": "stdout",
     "output_type": "stream",
     "text": [
      "Auditing for model C_0.001...\n"
     ]
    },
    {
     "data": {
      "application/vnd.jupyter.widget-view+json": {
       "model_id": "a7d38664b10848959e9f22f30825323c",
       "version_major": 2,
       "version_minor": 0
      },
      "text/plain": [
       "  0%|          | 0/1765 [00:00<?, ?it/s]"
      ]
     },
     "metadata": {},
     "output_type": "display_data"
    },
    {
     "name": "stdout",
     "output_type": "stream",
     "text": [
      "{1.0:        feasible      cost\n",
      "idx                      \n",
      "0          True  0.011300\n",
      "1         False  0.000000\n",
      "2         False  0.000000\n",
      "3         False  0.000000\n",
      "4         False  0.000000\n",
      "...         ...       ...\n",
      "28606     False  0.000000\n",
      "28607     False  0.000000\n",
      "28608     False  0.000000\n",
      "28609     False  0.000000\n",
      "28610      True  0.044426\n",
      "\n",
      "[28611 rows x 2 columns], 2.0:        feasible      cost\n",
      "idx                      \n",
      "0          True  0.011300\n",
      "1         False  0.000000\n",
      "2         False  0.000000\n",
      "3         False  0.000000\n",
      "4         False  0.000000\n",
      "...         ...       ...\n",
      "28606     False  0.000000\n",
      "28607     False  0.000000\n",
      "28608     False  0.000000\n",
      "28609     False  0.000000\n",
      "28610      True  0.045635\n",
      "\n",
      "[28611 rows x 2 columns], 5.0:        feasible      cost\n",
      "idx                      \n",
      "0          True  0.011300\n",
      "1         False  0.000000\n",
      "2         False  0.000000\n",
      "3         False  0.000000\n",
      "4         False  0.000000\n",
      "...         ...       ...\n",
      "28606     False  0.000000\n",
      "28607     False  0.000000\n",
      "28608     False  0.000000\n",
      "28609     False  0.000000\n",
      "28610      True  0.050536\n",
      "\n",
      "[28611 rows x 2 columns], 10.0:        feasible      cost\n",
      "idx                      \n",
      "0          True  0.011300\n",
      "1         False  0.000000\n",
      "2         False  0.000000\n",
      "3         False  0.000000\n",
      "4         False  0.000000\n",
      "...         ...       ...\n",
      "28606     False  0.000000\n",
      "28607     False  0.000000\n",
      "28608     False  0.000000\n",
      "28609     False  0.000000\n",
      "28610      True  0.058041\n",
      "\n",
      "[28611 rows x 2 columns], 20.0:        feasible      cost\n",
      "idx                      \n",
      "0          True  0.011300\n",
      "1         False  0.000000\n",
      "2         False  0.000000\n",
      "3         False  0.000000\n",
      "4         False  0.000000\n",
      "...         ...       ...\n",
      "28606     False  0.000000\n",
      "28607     False  0.000000\n",
      "28608     False  0.000000\n",
      "28609     False  0.000000\n",
      "28610      True  0.079056\n",
      "\n",
      "[28611 rows x 2 columns], 50.0:        feasible      cost\n",
      "idx                      \n",
      "0          True  0.011300\n",
      "1         False  0.000000\n",
      "2         False  0.000000\n",
      "3         False  0.000000\n",
      "4         False  0.000000\n",
      "...         ...       ...\n",
      "28606     False  0.000000\n",
      "28607     False  0.000000\n",
      "28608     False  0.000000\n",
      "28609     False  0.000000\n",
      "28610      True  0.077694\n",
      "\n",
      "[28611 rows x 2 columns], 100.0:        feasible      cost\n",
      "idx                      \n",
      "0         False  0.000000\n",
      "1         False  0.000000\n",
      "2         False  0.000000\n",
      "3         False  0.000000\n",
      "4         False  0.000000\n",
      "...         ...       ...\n",
      "28606     False  0.000000\n",
      "28607     False  0.000000\n",
      "28608     False  0.000000\n",
      "28609     False  0.000000\n",
      "28610      True  0.073881\n",
      "\n",
      "[28611 rows x 2 columns], 200.0:        feasible      cost\n",
      "idx                      \n",
      "0         False  0.000000\n",
      "1         False  0.000000\n",
      "2         False  0.000000\n",
      "3         False  0.000000\n",
      "4         False  0.000000\n",
      "...         ...       ...\n",
      "28606     False  0.000000\n",
      "28607     False  0.000000\n",
      "28608     False  0.000000\n",
      "28609     False  0.000000\n",
      "28610      True  0.058041\n",
      "\n",
      "[28611 rows x 2 columns], 500.0:        feasible      cost\n",
      "idx                      \n",
      "0         False  0.000000\n",
      "1         False  0.000000\n",
      "2         False  0.000000\n",
      "3         False  0.000000\n",
      "4         False  0.000000\n",
      "...         ...       ...\n",
      "28606     False  0.000000\n",
      "28607     False  0.000000\n",
      "28608     False  0.000000\n",
      "28609     False  0.000000\n",
      "28610      True  0.026439\n",
      "\n",
      "[28611 rows x 2 columns], 1000.0:        feasible      cost\n",
      "idx                      \n",
      "0         False  0.000000\n",
      "1         False  0.000000\n",
      "2         False  0.000000\n",
      "3         False  0.000000\n",
      "4         False  0.000000\n",
      "...         ...       ...\n",
      "28606     False  0.000000\n",
      "28607     False  0.000000\n",
      "28608     False  0.000000\n",
      "28609     False  0.000000\n",
      "28610      True  0.012054\n",
      "\n",
      "[28611 rows x 2 columns]}\n"
     ]
    }
   ],
   "source": [
    "audit_results = {}\n",
    "for key, clf in model_dict.items():\n",
    "    # Note, test to be added or not \n",
    "    clf.fit(data['X_train'], data['y'])  # test \n",
    "    \n",
    "    if settings['method_name'] == 'logreg':     \n",
    "        model_name = 1. / float(key.split('_')[1])\n",
    "    else:\n",
    "        model_name = float(key.split('_')[1])\n",
    "        \n",
    "    # unscale coefficients\n",
    "    if scaler is not None:\n",
    "        coefficients, intercept = undo_coefficient_scaling(coefficients = np.array(clf.coef_).flatten(), intercept = clf.intercept_[0], scaler = scaler)\n",
    "    else:\n",
    "        coefficients, intercept = np.array(clf.coef_).flatten(), clf.intercept_[0]\n",
    "\n",
    "    ## run audit\n",
    "    print(\"Auditing for model %s...\" % key)\n",
    "    auditor = RecourseAuditor(\n",
    "        action_set,\n",
    "        coefficients = coefficients,\n",
    "        intercept = intercept\n",
    "    )\n",
    "    audit_results[model_name] = auditor.audit(X = data['X'])\n",
    "\n",
    "\n",
    "\n",
    "print(audit_results)\n"
   ]
  },
  {
   "cell_type": "code",
   "execution_count": 9,
   "id": "1c10904d",
   "metadata": {},
   "outputs": [
    {
     "data": {
      "text/plain": [
       "{1.0:        feasible      cost\n",
       " idx                      \n",
       " 0          True  0.011300\n",
       " 1         False  0.000000\n",
       " 2         False  0.000000\n",
       " 3         False  0.000000\n",
       " 4         False  0.000000\n",
       " ...         ...       ...\n",
       " 28606     False  0.000000\n",
       " 28607     False  0.000000\n",
       " 28608     False  0.000000\n",
       " 28609     False  0.000000\n",
       " 28610      True  0.044426\n",
       " \n",
       " [28611 rows x 2 columns],\n",
       " 2.0:        feasible      cost\n",
       " idx                      \n",
       " 0          True  0.011300\n",
       " 1         False  0.000000\n",
       " 2         False  0.000000\n",
       " 3         False  0.000000\n",
       " 4         False  0.000000\n",
       " ...         ...       ...\n",
       " 28606     False  0.000000\n",
       " 28607     False  0.000000\n",
       " 28608     False  0.000000\n",
       " 28609     False  0.000000\n",
       " 28610      True  0.045635\n",
       " \n",
       " [28611 rows x 2 columns],\n",
       " 5.0:        feasible      cost\n",
       " idx                      \n",
       " 0          True  0.011300\n",
       " 1         False  0.000000\n",
       " 2         False  0.000000\n",
       " 3         False  0.000000\n",
       " 4         False  0.000000\n",
       " ...         ...       ...\n",
       " 28606     False  0.000000\n",
       " 28607     False  0.000000\n",
       " 28608     False  0.000000\n",
       " 28609     False  0.000000\n",
       " 28610      True  0.050536\n",
       " \n",
       " [28611 rows x 2 columns],\n",
       " 10.0:        feasible      cost\n",
       " idx                      \n",
       " 0          True  0.011300\n",
       " 1         False  0.000000\n",
       " 2         False  0.000000\n",
       " 3         False  0.000000\n",
       " 4         False  0.000000\n",
       " ...         ...       ...\n",
       " 28606     False  0.000000\n",
       " 28607     False  0.000000\n",
       " 28608     False  0.000000\n",
       " 28609     False  0.000000\n",
       " 28610      True  0.058041\n",
       " \n",
       " [28611 rows x 2 columns],\n",
       " 20.0:        feasible      cost\n",
       " idx                      \n",
       " 0          True  0.011300\n",
       " 1         False  0.000000\n",
       " 2         False  0.000000\n",
       " 3         False  0.000000\n",
       " 4         False  0.000000\n",
       " ...         ...       ...\n",
       " 28606     False  0.000000\n",
       " 28607     False  0.000000\n",
       " 28608     False  0.000000\n",
       " 28609     False  0.000000\n",
       " 28610      True  0.079056\n",
       " \n",
       " [28611 rows x 2 columns],\n",
       " 50.0:        feasible      cost\n",
       " idx                      \n",
       " 0          True  0.011300\n",
       " 1         False  0.000000\n",
       " 2         False  0.000000\n",
       " 3         False  0.000000\n",
       " 4         False  0.000000\n",
       " ...         ...       ...\n",
       " 28606     False  0.000000\n",
       " 28607     False  0.000000\n",
       " 28608     False  0.000000\n",
       " 28609     False  0.000000\n",
       " 28610      True  0.077694\n",
       " \n",
       " [28611 rows x 2 columns],\n",
       " 100.0:        feasible      cost\n",
       " idx                      \n",
       " 0         False  0.000000\n",
       " 1         False  0.000000\n",
       " 2         False  0.000000\n",
       " 3         False  0.000000\n",
       " 4         False  0.000000\n",
       " ...         ...       ...\n",
       " 28606     False  0.000000\n",
       " 28607     False  0.000000\n",
       " 28608     False  0.000000\n",
       " 28609     False  0.000000\n",
       " 28610      True  0.073881\n",
       " \n",
       " [28611 rows x 2 columns],\n",
       " 200.0:        feasible      cost\n",
       " idx                      \n",
       " 0         False  0.000000\n",
       " 1         False  0.000000\n",
       " 2         False  0.000000\n",
       " 3         False  0.000000\n",
       " 4         False  0.000000\n",
       " ...         ...       ...\n",
       " 28606     False  0.000000\n",
       " 28607     False  0.000000\n",
       " 28608     False  0.000000\n",
       " 28609     False  0.000000\n",
       " 28610      True  0.058041\n",
       " \n",
       " [28611 rows x 2 columns],\n",
       " 500.0:        feasible      cost\n",
       " idx                      \n",
       " 0         False  0.000000\n",
       " 1         False  0.000000\n",
       " 2         False  0.000000\n",
       " 3         False  0.000000\n",
       " 4         False  0.000000\n",
       " ...         ...       ...\n",
       " 28606     False  0.000000\n",
       " 28607     False  0.000000\n",
       " 28608     False  0.000000\n",
       " 28609     False  0.000000\n",
       " 28610      True  0.026439\n",
       " \n",
       " [28611 rows x 2 columns],\n",
       " 1000.0:        feasible      cost\n",
       " idx                      \n",
       " 0         False  0.000000\n",
       " 1         False  0.000000\n",
       " 2         False  0.000000\n",
       " 3         False  0.000000\n",
       " 4         False  0.000000\n",
       " ...         ...       ...\n",
       " 28606     False  0.000000\n",
       " 28607     False  0.000000\n",
       " 28608     False  0.000000\n",
       " 28609     False  0.000000\n",
       " 28610      True  0.012054\n",
       " \n",
       " [28611 rows x 2 columns]}"
      ]
     },
     "execution_count": 9,
     "metadata": {},
     "output_type": "execute_result"
    }
   ],
   "source": [
    "audit_results"
   ]
  },
  {
   "cell_type": "code",
   "execution_count": null,
   "id": "fd0e5b21",
   "metadata": {},
   "outputs": [],
   "source": []
  },
  {
   "cell_type": "markdown",
   "id": "b1dd9308",
   "metadata": {},
   "source": [
    "# Plot"
   ]
  },
  {
   "cell_type": "code",
   "execution_count": 10,
   "id": "ba523654",
   "metadata": {},
   "outputs": [],
   "source": [
    "if settings['method_name'] == 'logreg':\n",
    "    xlabel = '$\\ell_1$-penalty (log scale)'\n",
    "else:\n",
    "    xlabel = '$C$-penalty (log scale)'\n",
    "# percent of points without recourse\n",
    "feasibility_df = {}\n",
    "obj_val = {}\n",
    "\n",
    "for model_name in sorted(audit_results):\n",
    "    recourse_df = pd.DataFrame(audit_results[model_name])\n",
    "    recourse_cost = recourse_df.loc[lambda df: df.feasible].loc[:, 'cost']\n",
    "    feasibility_df[model_name] = recourse_df['feasible'].mean()\n",
    "    obj_val[model_name] = recourse_cost.mean()\n"
   ]
  },
  {
   "cell_type": "code",
   "execution_count": null,
   "id": "bc0c4ec4",
   "metadata": {},
   "outputs": [],
   "source": []
  },
  {
   "cell_type": "markdown",
   "id": "33d67a01",
   "metadata": {},
   "source": [
    "# Feasibility Plot "
   ]
  },
  {
   "cell_type": "code",
   "execution_count": 13,
   "id": "6d269885",
   "metadata": {},
   "outputs": [
    {
     "data": {
      "text/plain": [
       "[]"
      ]
     },
     "execution_count": 13,
     "metadata": {},
     "output_type": "execute_result"
    },
    {
     "data": {
      "image/png": "[encoded data removed]",
      "text/plain": [
       "<Figure size 432x432 with 1 Axes>"
      ]
     },
     "metadata": {},
     "output_type": "display_data"
    }
   ],
   "source": [
    "# feasibility plot\n",
    "f, ax = create_figure(fig_size = (6, 6))\n",
    "t_found = pd.Series(feasibility_df)\n",
    "t_found.plot(ax = ax, color = 'black', marker='o')\n",
    "plt.semilogx()\n",
    "ax.set_xlabel(xlabel)\n",
    "ax.set_ylabel('% of Individuals with Recourse')\n",
    "ax.set_ylim(0, 1.02)\n",
    "ax.yaxis.set_major_formatter(mtick.PercentFormatter(1.0, decimals = 0))\n",
    "ax = fix_font_sizes(ax)\n",
    "#f.savefig('%s_recourse_feasibility.pdf' % settings['audit_file_header'], bbox_inches = 'tight')\n",
    "plt.plot()\n",
    "#plt.close()\n"
   ]
  },
  {
   "cell_type": "code",
   "execution_count": 14,
   "id": "1cd87f2a",
   "metadata": {},
   "outputs": [],
   "source": [
    "f.savefig('%s_recourse_feasibility.pdf' % settings['audit_file_header'], bbox_inches = 'tight')"
   ]
  },
  {
   "cell_type": "code",
   "execution_count": null,
   "id": "e1a9c96b",
   "metadata": {},
   "outputs": [],
   "source": []
  },
  {
   "cell_type": "code",
   "execution_count": 15,
   "id": "e534b310",
   "metadata": {},
   "outputs": [
    {
     "data": {
      "text/plain": [
       "[]"
      ]
     },
     "execution_count": 15,
     "metadata": {},
     "output_type": "execute_result"
    },
    {
     "data": {
      "image/png": "[encoded data removed]",
      "text/plain": [
       "<Figure size 432x432 with 1 Axes>"
      ]
     },
     "metadata": {},
     "output_type": "display_data"
    }
   ],
   "source": [
    "\n",
    "#########################################################\n",
    "\n",
    "cost_df = {k: pd.DataFrame(v) for k, v in audit_results.items()}\n",
    "\n",
    "# Note total_cost-> cost \n",
    "cost_df = pd.concat([cost_df[k]['cost'].to_frame('%f' % k) for k in sorted(cost_df.keys())], axis=1).replace([-np.inf, np.inf], np.nan)\n",
    "\n",
    "\n",
    "# plot cost distribution\n",
    "f, ax = create_figure(fig_size = (6, 6))\n",
    "sns.violinplot(data = cost_df, ax = ax, linewidth = 0.5, cut = 0, inner = 'quartile', color = \"gold\", scale = 'width')\n",
    "ax.set_xlabel(xlabel)\n",
    "ax.set_ylabel('Cost of Recourse')\n",
    "ax.set_ylim(bottom = 0, top = 0.15)\n",
    "xtick_labels = []\n",
    "# for xt in ax.get_xticklabels():\n",
    "#     v = np.log10(float(xt.get_text()))\n",
    "#     label = '$10^{%.0f}$' % v if v == np.round(v, 0) else ' '\n",
    "#     xtick_labels.append(label)\n",
    "ax.set_xticklabels(xtick_labels)\n",
    "\n",
    "for l in ax.lines:\n",
    "    l.set_linewidth(3.0)\n",
    "    l.set_linestyle('-')\n",
    "    l.set_solid_capstyle('butt')\n",
    "\n",
    "ax = fix_font_sizes(ax)\n",
    "plt.plot()"
   ]
  },
  {
   "cell_type": "code",
   "execution_count": 16,
   "id": "bd3e4a22",
   "metadata": {},
   "outputs": [],
   "source": [
    "f.savefig('%s_recourse_cost_distribution.pdf' % settings['audit_file_header'], bbox_inches = 'tight')\n",
    "plt.close()\n"
   ]
  },
  {
   "cell_type": "code",
   "execution_count": null,
   "id": "f5413e40",
   "metadata": {},
   "outputs": [],
   "source": []
  },
  {
   "cell_type": "markdown",
   "id": "00c7363a",
   "metadata": {},
   "source": [
    "# Store Median Cost"
   ]
  },
  {
   "cell_type": "code",
   "execution_count": 18,
   "id": "0f543e4b",
   "metadata": {},
   "outputs": [
    {
     "data": {
      "text/plain": [
       "[]"
      ]
     },
     "execution_count": 18,
     "metadata": {},
     "output_type": "execute_result"
    },
    {
     "data": {
      "image/png": "[encoded data removed]",
      "text/plain": [
       "<Figure size 432x432 with 1 Axes>"
      ]
     },
     "metadata": {},
     "output_type": "display_data"
    }
   ],
   "source": [
    "\t    # store median cost\n",
    "cost_df.median(axis = 0).to_csv('%s_median_cost_df.csv' % settings['audit_file_header'])\n",
    "\n",
    "# plot the mean cost of recourse\n",
    "f, ax = create_figure(fig_size = (6, 6))\n",
    "ts_m = pd.Series(obj_val)\n",
    "ax = ts_m.plot(ax = ax, color = 'black', marker = 'o')\n",
    "plt.semilogx()\n",
    "plt.xlabel(xlabel)\n",
    "plt.ylabel('Mean Cost of Recourse')\n",
    "ax = fix_font_sizes(ax)\n",
    "\n",
    "plt.plot()\n"
   ]
  },
  {
   "cell_type": "code",
   "execution_count": 19,
   "id": "b3582555",
   "metadata": {},
   "outputs": [],
   "source": [
    "f.savefig('%s_recourse_cost.pdf' % settings['audit_file_header'], bbox_inches = 'tight')\n",
    "plt.close()"
   ]
  },
  {
   "cell_type": "code",
   "execution_count": null,
   "id": "cfbcd3ee",
   "metadata": {},
   "outputs": [],
   "source": []
  }
 ],
 "metadata": {
  "kernelspec": {
   "display_name": "Python 3 (ipykernel)",
   "language": "python",
   "name": "python3"
  },
  "language_info": {
   "codemirror_mode": {
    "name": "ipython",
    "version": 3
   },
   "file_extension": ".py",
   "mimetype": "text/x-python",
   "name": "python",
   "nbconvert_exporter": "python",
   "pygments_lexer": "ipython3",
   "version": "3.9.7"
  }
 },
 "nbformat": 4,
 "nbformat_minor": 5
}
